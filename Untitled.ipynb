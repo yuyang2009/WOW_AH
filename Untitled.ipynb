{
 "cells": [
  {
   "cell_type": "code",
   "execution_count": null,
   "metadata": {
    "collapsed": false
   },
   "outputs": [],
   "source": [
    "import pyoauth2 as oauth"
   ]
  },
  {
   "cell_type": "code",
   "execution_count": null,
   "metadata": {
    "collapsed": false
   },
   "outputs": [],
   "source": [
    "oauth.version"
   ]
  },
  {
   "cell_type": "code",
   "execution_count": null,
   "metadata": {
    "collapsed": false
   },
   "outputs": [],
   "source": [
    "from pyoauth2 import Client, AccessToken"
   ]
  },
  {
   "cell_type": "code",
   "execution_count": null,
   "metadata": {
    "collapsed": false
   },
   "outputs": [],
   "source": [
    "Authorize_URI = \"https://www.battlenet.com.cn/oauth/authorize\""
   ]
  },
  {
   "cell_type": "code",
   "execution_count": null,
   "metadata": {
    "collapsed": true
   },
   "outputs": [],
   "source": [
    "Token_URI = \"https://www.battlenet.com.cn/oauth/token\"\n",
    "API_HOST = \"https://api.battlenet.com.cn\""
   ]
  },
  {
   "cell_type": "code",
   "execution_count": null,
   "metadata": {
    "collapsed": false
   },
   "outputs": [],
   "source": [
    "key = \"jnns47ezwmvucsgt9uyxcubjqyr934mw\"\n",
    "secret = \"3XEycyugtdvGCUmPWKaa5kPswQV35DF2\"\n",
    "client = Client(\n",
    "                key,\n",
    "                secret,\n",
    "                site=API_HOST,\n",
    "                authorize_url=Authorize_URI,\n",
    "                token_url=Token_URI\n",
    ")"
   ]
  },
  {
   "cell_type": "code",
   "execution_count": null,
   "metadata": {
    "collapsed": false
   },
   "outputs": [],
   "source": [
    "access_token = client.password.get_token(username ='yuyang20091881@163.com', password='zhanwang060801', \n",
    "                                         redirect_uri='', scope='wow.profile',)"
   ]
  },
  {
   "cell_type": "code",
   "execution_count": null,
   "metadata": {
    "collapsed": false
   },
   "outputs": [],
   "source": [
    "AccessToken(client, access_token)"
   ]
  },
  {
   "cell_type": "code",
   "execution_count": 2,
   "metadata": {
    "collapsed": false
   },
   "outputs": [],
   "source": [
    "import urllib\n",
    "import json\n",
    "import pandas as pd\n",
    "auc_url = \"http://auction-api-cn.worldofwarcraft.com/auction-data/d9f2775ea6440077e5de6749fc37d81e/auctions.json\"\n",
    "resp = urllib.urlopen(auc_url)\n",
    "resp_json = json.load(resp)\n",
    "auc_json = resp_json.get('auctions')\n",
    "auc_df = pd.DataFrame(auc_json)\n",
    "hwh_df = auc_df[auc_df['item'] == 124105]\n",
    "unit_price = hwh_df['buyout'] / hwh_df['quantity'] /1000\n",
    "hwh_df.insert(len(hwh_df.columns), 'unit_price', unit_price)"
   ]
  },
  {
   "cell_type": "code",
   "execution_count": 13,
   "metadata": {
    "collapsed": false
   },
   "outputs": [
    {
     "name": "stdout",
     "output_type": "stream",
     "text": [
      "物品名称   最低价格   数量         我的价格   \n",
      "狐尾花      63.4998        34             71.0           \n",
      "星光玫瑰   95.0           2              nan            \n",
      "夏斯卡格草40.5           12             nan            \n",
      "邪能球茎   350.195        16             nan            \n",
      "魔光碎片   48.0           2              nan            \n",
      "抑魔金      2900.0         2              nan            \n",
      "混沌水晶   1099.9998      2              nan            \n",
      "远古魔力水晶234.9999       2              350.0          \n",
      "远古魔力宝石550.9999       1              950.0          \n"
     ]
    }
   ],
   "source": [
    "#-*- coding: UTF-8 -*-\n",
    "import urllib\n",
    "import os\n",
    "import sys\n",
    "import json\n",
    "import time\n",
    "import pandas as pd\n",
    "from collections import namedtuple\n",
    "\n",
    "auc_url = \"http://auction-api-cn.worldofwarcraft.com/auction-data/d9f2775ea6440077e5de6749fc37d81e/auctions.json\"\n",
    "report_list = [\"物品名称\", \"最低价格\", \"数量\", \"我的价格\"]\n",
    "item = namedtuple('item', ['id', 'name', 'low', 'high'])\n",
    "bn_id = u\"道亦有盗\"\n",
    "\n",
    "app_path = sys.path[0]\n",
    "file_name = \"item_list.txt\"\n",
    "file_path = os.path.join(app_path, file_name)\n",
    "\n",
    "def get_auc(url):\n",
    "    try:\n",
    "        resp = urllib.urlopen(auc_url)\n",
    "        if resp.code == 200:\n",
    "            resp_json = json.load(resp)\n",
    "            auc_json = resp_json.get('auctions')\n",
    "            auc_df = pd.DataFrame(auc_json)\n",
    "            return auc_df\n",
    "        else:\n",
    "            print \"拍卖行API不可用\"\n",
    "    except:\n",
    "        pass\n",
    "    finally:\n",
    "        resp.close()\n",
    "\n",
    "def get_items():\n",
    "    items = []\n",
    "    with open(file_path, 'r') as f_items:\n",
    "        for line in f_items:\n",
    "            if not line.isspace():\n",
    "                splitted_line = line.strip('\\n').split(',')\n",
    "                temp = item._make(splitted_line)\n",
    "                items.append(temp)\n",
    "    f_items.close()\n",
    "    return items\n",
    "\n",
    "def report(item, df):\n",
    "    name = item.name\n",
    "    df.loc[:, 'unit_price'] = df['buyout'] / df['quantity'] / 10000\n",
    "    low = df['unit_price'].min()\n",
    "    quantity = df[df['unit_price'] == low].loc[:, 'quantity'].sum()\n",
    "    my_price = df[df['owner'] == bn_id].loc[:, 'unit_price'].mean()\n",
    "    row_format =\"{:<15}\" * (len(report_list))\n",
    "    print row_format.format(name, low, quantity, my_price)\n",
    "\n",
    "\n",
    "if __name__ == '__main__':\n",
    "    items = get_items()\n",
    "    if len(items) == 0:\n",
    "        print \"监视列表为空！\"\n",
    "    auc_df = get_auc(auc_url)\n",
    "    row_format =\"{:<15}\" * (len(report_list))\n",
    "    print row_format.format(*report_list)\n",
    "    for item in items:\n",
    "        if item.id:\n",
    "            df = auc_df.loc[auc_df['item'] == int(item.id),:]\n",
    "            report(item, df)\n"
   ]
  },
  {
   "cell_type": "code",
   "execution_count": 36,
   "metadata": {
    "collapsed": false
   },
   "outputs": [
    {
     "name": "stdout",
     "output_type": "stream",
     "text": [
      "物品名称^^^^^^^^最低价格^^^^^^^^数量^^^^^^^^^^^^^^我的价格^^^^^^^^\n",
      "狐尾花^^^^^^^^^^^10.002^^^^^^^^^^^^^^100.0^^^^^^^^^^^^^^^100^^^^^^^^^^^^^^^^^\n"
     ]
    }
   ],
   "source": [
    "report_list = [\"物品名称\", \"最低价格\", \"数量\", \"我的价格\"]\n",
    "row_format =\"{:^<20}\" * (len(report_list))\n",
    "print row_format.format(*report_list)\n",
    "data = [\"狐尾花\", 10.002, 100.0000000003, 100]\n",
    "print row_format.format(*data)"
   ]
  },
  {
   "cell_type": "code",
   "execution_count": 7,
   "metadata": {
    "collapsed": false
   },
   "outputs": [
    {
     "ename": "NameError",
     "evalue": "name 'hwh_df' is not defined",
     "output_type": "error",
     "traceback": [
      "\u001b[1;31m---------------------------------------------------------------------------\u001b[0m",
      "\u001b[1;31mNameError\u001b[0m                                 Traceback (most recent call last)",
      "\u001b[1;32m<ipython-input-7-4309f408b4b4>\u001b[0m in \u001b[0;36m<module>\u001b[1;34m()\u001b[0m\n\u001b[0;32m      1\u001b[0m \u001b[0mname\u001b[0m \u001b[1;33m=\u001b[0m \u001b[0mitem\u001b[0m\u001b[1;33m.\u001b[0m\u001b[0mname\u001b[0m\u001b[1;33m\u001b[0m\u001b[0m\n\u001b[1;32m----> 2\u001b[1;33m \u001b[0mhwh_df\u001b[0m\u001b[1;33m.\u001b[0m\u001b[0mloc\u001b[0m\u001b[1;33m[\u001b[0m\u001b[1;33m:\u001b[0m\u001b[1;33m,\u001b[0m \u001b[1;34m'unit_price'\u001b[0m\u001b[1;33m]\u001b[0m \u001b[1;33m=\u001b[0m \u001b[0mhwh_df\u001b[0m\u001b[1;33m.\u001b[0m\u001b[0mloc\u001b[0m\u001b[1;33m[\u001b[0m\u001b[1;33m:\u001b[0m\u001b[1;33m,\u001b[0m \u001b[1;34m'buyout'\u001b[0m\u001b[1;33m]\u001b[0m \u001b[1;33m/\u001b[0m \u001b[0mhwh_df\u001b[0m\u001b[1;33m.\u001b[0m\u001b[0mloc\u001b[0m\u001b[1;33m[\u001b[0m\u001b[1;33m:\u001b[0m\u001b[1;33m,\u001b[0m \u001b[1;34m'quantity'\u001b[0m\u001b[1;33m]\u001b[0m \u001b[1;33m/\u001b[0m \u001b[1;36m10000\u001b[0m\u001b[1;33m\u001b[0m\u001b[0m\n\u001b[0m\u001b[0;32m      3\u001b[0m \u001b[0mlow\u001b[0m \u001b[1;33m=\u001b[0m \u001b[0mhwh_df\u001b[0m\u001b[1;33m[\u001b[0m\u001b[1;34m'unit_price'\u001b[0m\u001b[1;33m]\u001b[0m\u001b[1;33m.\u001b[0m\u001b[0mmin\u001b[0m\u001b[1;33m(\u001b[0m\u001b[1;33m)\u001b[0m\u001b[1;33m\u001b[0m\u001b[0m\n\u001b[0;32m      4\u001b[0m \u001b[0mquantity\u001b[0m \u001b[1;33m=\u001b[0m \u001b[0mhwh_df\u001b[0m\u001b[1;33m[\u001b[0m\u001b[0mhwh_df\u001b[0m\u001b[1;33m[\u001b[0m\u001b[1;34m'unit_price'\u001b[0m\u001b[1;33m]\u001b[0m \u001b[1;33m==\u001b[0m \u001b[0mlow\u001b[0m\u001b[1;33m]\u001b[0m\u001b[1;33m[\u001b[0m\u001b[1;34m'quantity'\u001b[0m\u001b[1;33m]\u001b[0m\u001b[1;33m.\u001b[0m\u001b[0msum\u001b[0m\u001b[1;33m(\u001b[0m\u001b[1;33m)\u001b[0m\u001b[1;33m\u001b[0m\u001b[0m\n\u001b[0;32m      5\u001b[0m \u001b[0mmy_price\u001b[0m \u001b[1;33m=\u001b[0m \u001b[0mhwh_df\u001b[0m\u001b[1;33m[\u001b[0m\u001b[0mhwh_df\u001b[0m\u001b[1;33m[\u001b[0m\u001b[1;34m'owner'\u001b[0m\u001b[1;33m]\u001b[0m \u001b[1;33m==\u001b[0m \u001b[0mbn_id\u001b[0m\u001b[1;33m]\u001b[0m\u001b[1;33m[\u001b[0m\u001b[1;34m'unit_price'\u001b[0m\u001b[1;33m]\u001b[0m\u001b[1;33m.\u001b[0m\u001b[0mmean\u001b[0m\u001b[1;33m(\u001b[0m\u001b[1;33m)\u001b[0m\u001b[1;33m\u001b[0m\u001b[0m\n",
      "\u001b[1;31mNameError\u001b[0m: name 'hwh_df' is not defined"
     ]
    }
   ],
   "source": [
    "name = item.name\n",
    "hwh_df.loc[:, 'unit_price'] = hwh_df.loc[:, 'buyout'] / hwh_df.loc[:, 'quantity'] / 10000\n",
    "low = hwh_df['unit_price'].min()\n",
    "quantity = hwh_df[hwh_df['unit_price'] == low]['quantity'].sum()\n",
    "my_price = hwh_df[hwh_df['owner'] == bn_id]['unit_price'].mean()\n",
    "report_list = [\"物品名称\", \"最低价格\", \"数量\", \"我的价格\"]\n",
    "row_format =\"{:<15}\" * (len(report_list))\n",
    "print row_format.format(*report_list)\n",
    "data = [\"狐尾花\", \"10\", \"100\", \"100\"]\n",
    "print row_format.format(name, low, quantity, my_price)"
   ]
  },
  {
   "cell_type": "code",
   "execution_count": 40,
   "metadata": {
    "collapsed": false
   },
   "outputs": [
    {
     "name": "stdout",
     "output_type": "stream",
     "text": [
      "+----------+----------+------+----------+\n",
      "| 物品名称 | 最低价格 | 数量 | 我的价格 |\n",
      "+----------+----------+------+----------+\n",
      "|  狐尾花  |    10    | 100  |   100    |\n",
      "+----------+----------+------+----------+\n"
     ]
    }
   ],
   "source": [
    "from prettytable import PrettyTable\n",
    "report_list = [\"物品名称\", \"最低价格\", \"数量\", \"我的价格\"]\n",
    "data = [\"狐尾花\", \"10\", \"100\", \"100\"]\n",
    "t = PrettyTable(report_list)\n",
    "t.add_row(data)\n",
    "print t"
   ]
  },
  {
   "cell_type": "code",
   "execution_count": null,
   "metadata": {
    "collapsed": false,
    "scrolled": false
   },
   "outputs": [],
   "source": [
    "bn_id = u\"道亦有盗\"\n",
    "hwh_df[hwh_df['owner'] == bn_id]['unit_price'].mean()"
   ]
  },
  {
   "cell_type": "code",
   "execution_count": null,
   "metadata": {
    "collapsed": false
   },
   "outputs": [],
   "source": [
    "item = items[3]\n",
    "low = 55"
   ]
  },
  {
   "cell_type": "code",
   "execution_count": null,
   "metadata": {
    "collapsed": false
   },
   "outputs": [],
   "source": [
    "alter_low = item.low\n",
    "alter_high = item.high\n",
    "if ((not alter_low.isspace()) and low<alter_low) or ((not alter_high.isspace()) and low>alter_high):\n",
    "    print 'not null'\n",
    "else:\n",
    "    print \"null\""
   ]
  },
  {
   "cell_type": "code",
   "execution_count": null,
   "metadata": {
    "collapsed": false
   },
   "outputs": [],
   "source": [
    "item = items[2]"
   ]
  },
  {
   "cell_type": "code",
   "execution_count": null,
   "metadata": {
    "collapsed": false
   },
   "outputs": [],
   "source": [
    "#-*- coding: UTF-8 -*-\n",
    "import urllib\n",
    "import os\n",
    "import sys\n",
    "import json\n",
    "import time\n",
    "import winsound\n",
    "import pandas as pd\n",
    "from collections import namedtuple\n",
    "\n",
    "auc_url = \"http://auction-api-cn.worldofwarcraft.com/auction-data/d9f2775ea6440077e5de6749fc37d81e/auctions.json\"\n",
    "report_list = [\"物品名称\", \"最低价格\", \"数量\", \"我的价格\"]\n",
    "item = namedtuple('item', ['id', 'name', 'low', 'high'])\n",
    "bn_id = u\"道亦有盗\"\n",
    "\n",
    "app_path = sys.path[0]\n",
    "file_name = \"item_list.txt\"\n",
    "file_path = os.path.join(app_path, file_name)\n",
    "\n",
    "def get_auc(url):\n",
    "    try:\n",
    "        resp = urllib.urlopen(auc_url)\n",
    "        if resp.code == 200:\n",
    "            resp_json = json.load(resp)\n",
    "            auc_json = resp_json.get('auctions')\n",
    "            auc_df = pd.DataFrame(auc_json)\n",
    "            return auc_df\n",
    "        else:\n",
    "            print \"拍卖行API不可用\"\n",
    "    except:\n",
    "        pass\n",
    "    finally:\n",
    "        resp.close()\n",
    "\n",
    "def get_items():\n",
    "    items = []\n",
    "    with open(file_path, 'r') as f_items:\n",
    "        for line in f_items:\n",
    "            if not line.isspace():\n",
    "                splitted_line = line.strip('\\n').split(',')\n",
    "                temp = item._make(splitted_line)\n",
    "                items.append(temp)\n",
    "    f_items.close()\n",
    "    return items\n",
    "\n",
    "def report(item, df):\n",
    "    name = item.name\n",
    "    df.loc[:, 'unit_price'] = df.loc[:, 'buyout'] / df.loc[:, 'quantity'] / 10000\n",
    "    low = df['unit_price'].min()\n",
    "    quantity = df[df['unit_price'] == low]['quantity'].sum()\n",
    "    my_price = df[df['owner'] == bn_id]['unit_price'].mean()\n",
    "    row_format =\"{:<15}\" * (len(report_list))\n",
    "    alter_low = item.low\n",
    "    alter_high = item.high\n",
    "    if alter_low.strip() and low<int(alter_low) or alter_high.strip() and low>int(alter_high):\n",
    "        print '\\033[1;32;40m', row_format.format(name, low, quantity, my_price), '\\033[0m'\n",
    "        #winsound.Beep(300,2000)\n",
    "    else:\n",
    "        print row_format.format(name, low, quantity, my_price)\n",
    "\n",
    "\n",
    "if __name__ == '__main__':\n",
    "    items = get_items()\n",
    "    if len(items) == 0:\n",
    "        print \"监视列表为空！\"\n",
    "    row_format =\"{:<20}\" * (len(report_list))\n",
    "    while True:\n",
    "            auc_df = get_auc(auc_url)\n",
    "            print \"当前时间：%s\" %time.ctime() \n",
    "            print row_format.format(*report_list)\n",
    "            for item in items:\n",
    "                if item.id:\n",
    "                    df = auc_df[auc_df['item'] == int(item.id)]\n",
    "                    report(item, df)\n",
    "            time.sleep(60)\n"
   ]
  },
  {
   "cell_type": "code",
   "execution_count": null,
   "metadata": {
    "collapsed": false
   },
   "outputs": [],
   "source": [
    "df[ 'unit_price'] = df.loc[:, 'buyout'] / df.loc[:, 'quantity'] / 10000"
   ]
  },
  {
   "cell_type": "code",
   "execution_count": 43,
   "metadata": {
    "collapsed": false
   },
   "outputs": [],
   "source": [
    "df_test = pd.DataFrame(columns=report_list)\n"
   ]
  },
  {
   "cell_type": "code",
   "execution_count": 46,
   "metadata": {
    "collapsed": false
   },
   "outputs": [
    {
     "data": {
      "text/html": [
       "<div>\n",
       "<table border=\"1\" class=\"dataframe\">\n",
       "  <thead>\n",
       "    <tr style=\"text-align: right;\">\n",
       "      <th></th>\n",
       "      <th>物品名称</th>\n",
       "      <th>最低价格</th>\n",
       "      <th>数量</th>\n",
       "      <th>我的价格</th>\n",
       "    </tr>\n",
       "  </thead>\n",
       "  <tbody>\n",
       "  </tbody>\n",
       "</table>\n",
       "</div>"
      ],
      "text/plain": [
       "Empty DataFrame\n",
       "Columns: [物品名称, 最低价格, 数量, 我的价格]\n",
       "Index: []"
      ]
     },
     "execution_count": 46,
     "metadata": {},
     "output_type": "execute_result"
    }
   ],
   "source": [
    "df_test.add(data)"
   ]
  },
  {
   "cell_type": "code",
   "execution_count": 57,
   "metadata": {
    "collapsed": false
   },
   "outputs": [],
   "source": [
    "df_test.loc[df_test.size] = data"
   ]
  },
  {
   "cell_type": "code",
   "execution_count": 54,
   "metadata": {
    "collapsed": false
   },
   "outputs": [
    {
     "name": "stdout",
     "output_type": "stream",
     "text": [
      "display.chop_threshold : float or None\n",
      "    if set to a float value, all float values smaller then the given threshold\n",
      "    will be displayed as exactly 0 by repr and friends.\n",
      "    [default: None] [currently: None]\n",
      "\n",
      "display.colheader_justify : 'left'/'right'\n",
      "    Controls the justification of column headers. used by DataFrameFormatter.\n",
      "    [default: right] [currently: right]\n",
      "\n",
      "display.column_space No description available.\n",
      "    [default: 12] [currently: 12]\n",
      "\n",
      "display.date_dayfirst : boolean\n",
      "    When True, prints and parses dates with the day first, eg 20/01/2005\n",
      "    [default: False] [currently: False]\n",
      "\n",
      "display.date_yearfirst : boolean\n",
      "    When True, prints and parses dates with the year first, eg 2005/01/20\n",
      "    [default: False] [currently: False]\n",
      "\n",
      "display.encoding : str/unicode\n",
      "    Defaults to the detected encoding of the console.\n",
      "    Specifies the encoding to be used for strings returned by to_string,\n",
      "    these are generally strings meant to be displayed on the console.\n",
      "    [default: UTF-8] [currently: UTF-8]\n",
      "\n",
      "display.expand_frame_repr : boolean\n",
      "    Whether to print out the full DataFrame repr for wide DataFrames across\n",
      "    multiple lines, `max_columns` is still respected, but the output will\n",
      "    wrap-around across multiple \"pages\" if its width exceeds `display.width`.\n",
      "    [default: True] [currently: True]\n",
      "\n",
      "display.float_format : callable\n",
      "    The callable should accept a floating point number and return\n",
      "    a string with the desired format of the number. This is used\n",
      "    in some places like SeriesFormatter.\n",
      "    See core.format.EngFormatter for an example.\n",
      "    [default: None] [currently: None]\n",
      "\n",
      "display.height : int\n",
      "    Deprecated.\n",
      "    [default: 60] [currently: 60]\n",
      "    (Deprecated, use `display.max_rows` instead.)\n",
      "\n",
      "display.large_repr : 'truncate'/'info'\n",
      "    For DataFrames exceeding max_rows/max_cols, the repr (and HTML repr) can\n",
      "    show a truncated table (the default from 0.13), or switch to the view from\n",
      "    df.info() (the behaviour in earlier versions of pandas).\n",
      "    [default: truncate] [currently: truncate]\n",
      "\n",
      "display.latex.escape : bool\n",
      "    This specifies if the to_latex method of a Dataframe uses escapes special\n",
      "    characters.\n",
      "    method. Valid values: False,True\n",
      "    [default: True] [currently: True]\n",
      "\n",
      "display.latex.longtable :bool\n",
      "    This specifies if the to_latex method of a Dataframe uses the longtable\n",
      "    format.\n",
      "    method. Valid values: False,True\n",
      "    [default: False] [currently: False]\n",
      "\n",
      "display.latex.repr : boolean\n",
      "    Whether to produce a latex DataFrame representation for jupyter\n",
      "    environments that support it.\n",
      "    (default: False)\n",
      "    [default: False] [currently: False]\n",
      "\n",
      "display.line_width : int\n",
      "    Deprecated.\n",
      "    [default: 80] [currently: 80]\n",
      "    (Deprecated, use `display.width` instead.)\n",
      "\n",
      "display.max_categories : int\n",
      "    This sets the maximum number of categories pandas should output when\n",
      "    printing out a `Categorical` or a Series of dtype \"category\".\n",
      "    [default: 8] [currently: 8]\n",
      "\n",
      "display.max_columns : int\n",
      "    If max_cols is exceeded, switch to truncate view. Depending on\n",
      "    `large_repr`, objects are either centrally truncated or printed as\n",
      "    a summary view. 'None' value means unlimited.\n",
      "\n",
      "    In case python/IPython is running in a terminal and `large_repr`\n",
      "    equals 'truncate' this can be set to 0 and pandas will auto-detect\n",
      "    the width of the terminal and print a truncated object which fits\n",
      "    the screen width. The IPython notebook, IPython qtconsole, or IDLE\n",
      "    do not run in a terminal and hence it is not possible to do\n",
      "    correct auto-detection.\n",
      "    [default: 20] [currently: 20]\n",
      "\n",
      "display.max_colwidth : int\n",
      "    The maximum width in characters of a column in the repr of\n",
      "    a pandas data structure. When the column overflows, a \"...\"\n",
      "    placeholder is embedded in the output.\n",
      "    [default: 50] [currently: 50]\n",
      "\n",
      "display.max_info_columns : int\n",
      "    max_info_columns is used in DataFrame.info method to decide if\n",
      "    per column information will be printed.\n",
      "    [default: 100] [currently: 100]\n",
      "\n",
      "display.max_info_rows : int or None\n",
      "    df.info() will usually show null-counts for each column.\n",
      "    For large frames this can be quite slow. max_info_rows and max_info_cols\n",
      "    limit this null check only to frames with smaller dimensions than\n",
      "    specified.\n",
      "    [default: 1690785] [currently: 1690785]\n",
      "\n",
      "display.max_rows : int\n",
      "    If max_rows is exceeded, switch to truncate view. Depending on\n",
      "    `large_repr`, objects are either centrally truncated or printed as\n",
      "    a summary view. 'None' value means unlimited.\n",
      "\n",
      "    In case python/IPython is running in a terminal and `large_repr`\n",
      "    equals 'truncate' this can be set to 0 and pandas will auto-detect\n",
      "    the height of the terminal and print a truncated object which fits\n",
      "    the screen height. The IPython notebook, IPython qtconsole, or\n",
      "    IDLE do not run in a terminal and hence it is not possible to do\n",
      "    correct auto-detection.\n",
      "    [default: 60] [currently: 60]\n",
      "\n",
      "display.max_seq_items : int or None\n",
      "    when pretty-printing a long sequence, no more then `max_seq_items`\n",
      "    will be printed. If items are omitted, they will be denoted by the\n",
      "    addition of \"...\" to the resulting string.\n",
      "\n",
      "    If set to None, the number of items to be printed is unlimited.\n",
      "    [default: 100] [currently: 100]\n",
      "\n",
      "display.memory_usage : bool, string or None\n",
      "    This specifies if the memory usage of a DataFrame should be displayed when\n",
      "    df.info() is called. Valid values True,False,'deep'\n",
      "    [default: True] [currently: True]\n",
      "\n",
      "display.mpl_style : bool\n",
      "    Setting this to 'default' will modify the rcParams used by matplotlib\n",
      "    to give plots a more pleasing visual style by default.\n",
      "    Setting this to None/False restores the values to their initial value.\n",
      "    [default: None] [currently: None]\n",
      "\n",
      "display.multi_sparse : boolean\n",
      "    \"sparsify\" MultiIndex display (don't display repeated\n",
      "    elements in outer levels within groups)\n",
      "    [default: True] [currently: True]\n",
      "\n",
      "display.notebook_repr_html : boolean\n",
      "    When True, IPython notebook will use html representation for\n",
      "    pandas objects (if it is available).\n",
      "    [default: True] [currently: True]\n",
      "\n",
      "display.pprint_nest_depth : int\n",
      "    Controls the number of nested levels to process when pretty-printing\n",
      "    [default: 3] [currently: 3]\n",
      "\n",
      "display.precision : int\n",
      "    Floating point output precision (number of significant digits). This is\n",
      "    only a suggestion\n",
      "    [default: 6] [currently: 6]\n",
      "\n",
      "display.show_dimensions : boolean or 'truncate'\n",
      "    Whether to print out dimensions at the end of DataFrame repr.\n",
      "    If 'truncate' is specified, only print out the dimensions if the\n",
      "    frame is truncated (e.g. not display all rows and/or columns)\n",
      "    [default: truncate] [currently: truncate]\n",
      "\n",
      "display.unicode.ambiguous_as_wide : boolean\n",
      "    Whether to use the Unicode East Asian Width to calculate the display text\n",
      "    width.\n",
      "    Enabling this may affect to the performance (default: False)\n",
      "    [default: False] [currently: False]\n",
      "\n",
      "display.unicode.east_asian_width : boolean\n",
      "    Whether to use the Unicode East Asian Width to calculate the display text\n",
      "    width.\n",
      "    Enabling this may affect to the performance (default: False)\n",
      "    [default: False] [currently: False]\n",
      "\n",
      "display.width : int\n",
      "    Width of the display in characters. In case python/IPython is running in\n",
      "    a terminal this can be set to None and pandas will correctly auto-detect\n",
      "    the width.\n",
      "    Note that the IPython notebook, IPython qtconsole, or IDLE do not run in a\n",
      "    terminal and hence it is not possible to correctly detect the width.\n",
      "    [default: 80] [currently: 80]\n",
      "\n",
      "\n"
     ]
    }
   ],
   "source": [
    "pd.describe_option('display')"
   ]
  },
  {
   "cell_type": "code",
   "execution_count": 55,
   "metadata": {
    "collapsed": true
   },
   "outputs": [],
   "source": [
    "data = [u'\\u8fdc\\u53e4\\u9b54\\u529b\\u5b9d\\u77f3', 494.01490000000001, 1L, 1100.0]"
   ]
  },
  {
   "cell_type": "code",
   "execution_count": 11,
   "metadata": {
    "collapsed": false
   },
   "outputs": [],
   "source": [
    "hwh_df = hwh_df[hwh_df['buyout'] != 0]"
   ]
  },
  {
   "cell_type": "code",
   "execution_count": 12,
   "metadata": {
    "collapsed": false
   },
   "outputs": [],
   "source": [
    "hwh_buyout = hwh_df[hwh_df['unit_price'] == min(hwh_df['unit_price'])]"
   ]
  },
  {
   "cell_type": "code",
   "execution_count": 13,
   "metadata": {
    "collapsed": false
   },
   "outputs": [
    {
     "data": {
      "text/html": [
       "<div>\n",
       "<table border=\"1\" class=\"dataframe\">\n",
       "  <thead>\n",
       "    <tr style=\"text-align: right;\">\n",
       "      <th></th>\n",
       "      <th>auc</th>\n",
       "      <th>bid</th>\n",
       "      <th>bonusLists</th>\n",
       "      <th>buyout</th>\n",
       "      <th>context</th>\n",
       "      <th>item</th>\n",
       "      <th>modifiers</th>\n",
       "      <th>owner</th>\n",
       "      <th>ownerRealm</th>\n",
       "      <th>petBreedId</th>\n",
       "      <th>petLevel</th>\n",
       "      <th>petQualityId</th>\n",
       "      <th>petSpeciesId</th>\n",
       "      <th>quantity</th>\n",
       "      <th>rand</th>\n",
       "      <th>seed</th>\n",
       "      <th>timeLeft</th>\n",
       "      <th>unit_price</th>\n",
       "    </tr>\n",
       "  </thead>\n",
       "  <tbody>\n",
       "    <tr>\n",
       "      <th>18015</th>\n",
       "      <td>32963429</td>\n",
       "      <td>66001584</td>\n",
       "      <td>NaN</td>\n",
       "      <td>69306534</td>\n",
       "      <td>0</td>\n",
       "      <td>124105</td>\n",
       "      <td>NaN</td>\n",
       "      <td>Stride</td>\n",
       "      <td>影牙要塞</td>\n",
       "      <td>NaN</td>\n",
       "      <td>NaN</td>\n",
       "      <td>NaN</td>\n",
       "      <td>NaN</td>\n",
       "      <td>66</td>\n",
       "      <td>0</td>\n",
       "      <td>0</td>\n",
       "      <td>VERY_LONG</td>\n",
       "      <td>1050.099</td>\n",
       "    </tr>\n",
       "  </tbody>\n",
       "</table>\n",
       "</div>"
      ],
      "text/plain": [
       "            auc       bid bonusLists    buyout  context    item modifiers  \\\n",
       "18015  32963429  66001584        NaN  69306534        0  124105       NaN   \n",
       "\n",
       "        owner ownerRealm  petBreedId  petLevel  petQualityId  petSpeciesId  \\\n",
       "18015  Stride       影牙要塞         NaN       NaN           NaN           NaN   \n",
       "\n",
       "       quantity  rand  seed   timeLeft  unit_price  \n",
       "18015        66     0     0  VERY_LONG    1050.099  "
      ]
     },
     "execution_count": 13,
     "metadata": {},
     "output_type": "execute_result"
    }
   ],
   "source": [
    "hwh_buyout"
   ]
  },
  {
   "cell_type": "code",
   "execution_count": 70,
   "metadata": {
    "collapsed": false
   },
   "outputs": [
    {
     "ename": "AttributeError",
     "evalue": "'list' object has no attribute 'encode'",
     "output_type": "error",
     "traceback": [
      "\u001b[1;31m---------------------------------------------------------------------------\u001b[0m",
      "\u001b[1;31mAttributeError\u001b[0m                            Traceback (most recent call last)",
      "\u001b[1;32m<ipython-input-70-bcf4311538ee>\u001b[0m in \u001b[0;36m<module>\u001b[1;34m()\u001b[0m\n\u001b[1;32m----> 1\u001b[1;33m \u001b[1;32mprint\u001b[0m \u001b[0mreport_list\u001b[0m\u001b[1;33m.\u001b[0m\u001b[0mencode\u001b[0m\u001b[1;33m(\u001b[0m\u001b[1;34m'utf8'\u001b[0m\u001b[1;33m)\u001b[0m\u001b[1;33m\u001b[0m\u001b[0m\n\u001b[0m",
      "\u001b[1;31mAttributeError\u001b[0m: 'list' object has no attribute 'encode'"
     ]
    }
   ],
   "source": []
  },
  {
   "cell_type": "code",
   "execution_count": null,
   "metadata": {
    "collapsed": true
   },
   "outputs": [],
   "source": []
  }
 ],
 "metadata": {
  "kernelspec": {
   "display_name": "Python 2",
   "language": "python",
   "name": "python2"
  },
  "language_info": {
   "codemirror_mode": {
    "name": "ipython",
    "version": 2
   },
   "file_extension": ".py",
   "mimetype": "text/x-python",
   "name": "python",
   "nbconvert_exporter": "python",
   "pygments_lexer": "ipython2",
   "version": "2.7.11"
  }
 },
 "nbformat": 4,
 "nbformat_minor": 0
}
